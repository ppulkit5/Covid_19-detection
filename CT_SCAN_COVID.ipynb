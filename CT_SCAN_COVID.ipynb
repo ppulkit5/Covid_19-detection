{
 "cells": [
  {
   "cell_type": "code",
   "execution_count": 1,
   "id": "charitable-tragedy",
   "metadata": {},
   "outputs": [
    {
     "name": "stdout",
     "output_type": "stream",
     "text": [
      "INFO:tensorflow:Enabling eager execution\n",
      "INFO:tensorflow:Enabling v2 tensorshape\n",
      "INFO:tensorflow:Enabling resource variables\n",
      "INFO:tensorflow:Enabling tensor equality\n",
      "INFO:tensorflow:Enabling control flow v2\n"
     ]
    }
   ],
   "source": [
    "import numpy as np\n",
    "import matplotlib.pyplot as plt\n",
    "import keras\n",
    "from keras.layers import *\n",
    "from keras.models import *\n",
    "from keras.preprocessing import image\n",
    "from keras.callbacks import ModelCheckpoint\n",
    "from IPython.display import Image"
   ]
  },
  {
   "cell_type": "code",
   "execution_count": 2,
   "id": "nonprofit-cartridge",
   "metadata": {},
   "outputs": [
    {
     "name": "stdout",
     "output_type": "stream",
     "text": [
      "{'COVID': 0, 'Non COVID': 1}\n",
      "['COVID', 'Non COVID']\n",
      "[0, 1]\n"
     ]
    }
   ],
   "source": [
    "import cv2,os\n",
    "\n",
    "data_path='CT'\n",
    "categories=os.listdir(data_path)\n",
    "labels=[i for i in range(len(categories))]\n",
    "\n",
    "label_dict=dict(zip(categories,labels)) \n",
    "\n",
    "print(label_dict)\n",
    "print(categories)\n",
    "print(labels)"
   ]
  },
  {
   "cell_type": "code",
   "execution_count": 3,
   "id": "typical-talent",
   "metadata": {},
   "outputs": [],
   "source": [
    "img_size=100,100,1\n",
    "data=[]\n",
    "target=[]\n",
    "\n",
    "\n",
    "for category in categories:\n",
    "    folder_path=os.path.join(data_path,category)\n",
    "    img_names=os.listdir(folder_path)\n",
    "        \n",
    "    for img_name in img_names:\n",
    "        img_path=os.path.join(folder_path,img_name)\n",
    "        img=cv2.imread(img_path)\n",
    "        resized=image.load_img(img_path,color_mode=\"grayscale\", target_size=(100,100))\n",
    "        resized=image.img_to_array(resized)\n",
    "        data.append(resized)\n",
    "        target.append(label_dict[category])"
   ]
  },
  {
   "cell_type": "code",
   "execution_count": 4,
   "id": "cubic-replacement",
   "metadata": {},
   "outputs": [
    {
     "data": {
      "text/plain": [
       "'CT\\\\Non COVID\\\\997.png'"
      ]
     },
     "execution_count": 4,
     "metadata": {},
     "output_type": "execute_result"
    }
   ],
   "source": [
    "img_path"
   ]
  },
  {
   "cell_type": "code",
   "execution_count": 5,
   "id": "divine-reggae",
   "metadata": {},
   "outputs": [],
   "source": [
    "import numpy as np\n",
    "\n",
    "data=np.array(data)/255.0\n",
    "target=np.array(target)\n",
    "\n",
    "from keras.utils import np_utils\n",
    "\n",
    "new_target=np_utils.to_categorical(target)"
   ]
  },
  {
   "cell_type": "code",
   "execution_count": 6,
   "id": "precise-telephone",
   "metadata": {},
   "outputs": [
    {
     "data": {
      "text/plain": [
       "(746, 100, 100, 1)"
      ]
     },
     "execution_count": 6,
     "metadata": {},
     "output_type": "execute_result"
    }
   ],
   "source": [
    "data.shape"
   ]
  },
  {
   "cell_type": "code",
   "execution_count": 7,
   "id": "acquired-interface",
   "metadata": {},
   "outputs": [],
   "source": [
    "np.save('data_CT',data)\n",
    "np.save('target_CT',new_target)"
   ]
  },
  {
   "cell_type": "code",
   "execution_count": 8,
   "id": "distinct-resource",
   "metadata": {},
   "outputs": [],
   "source": [
    "data=np.load('data_CT.npy')\n",
    "target=np.load('target_CT.npy')"
   ]
  },
  {
   "cell_type": "code",
   "execution_count": 9,
   "id": "adopted-jonathan",
   "metadata": {},
   "outputs": [
    {
     "name": "stdout",
     "output_type": "stream",
     "text": [
      "2.5.0\n",
      "Model: \"sequential\"\n",
      "_________________________________________________________________\n",
      "Layer (type)                 Output Shape              Param #   \n",
      "=================================================================\n",
      "model (Functional)           (None, 98, 98, 96)        960       \n",
      "_________________________________________________________________\n",
      "conv2d_3 (Conv2D)            (None, 96, 96, 64)        55360     \n",
      "_________________________________________________________________\n",
      "activation (Activation)      (None, 96, 96, 64)        0         \n",
      "_________________________________________________________________\n",
      "max_pooling2d (MaxPooling2D) (None, 48, 48, 64)        0         \n",
      "_________________________________________________________________\n",
      "conv2d_4 (Conv2D)            (None, 46, 46, 128)       73856     \n",
      "_________________________________________________________________\n",
      "activation_1 (Activation)    (None, 46, 46, 128)       0         \n",
      "_________________________________________________________________\n",
      "max_pooling2d_1 (MaxPooling2 (None, 23, 23, 128)       0         \n",
      "_________________________________________________________________\n",
      "flatten (Flatten)            (None, 67712)             0         \n",
      "_________________________________________________________________\n",
      "dropout (Dropout)            (None, 67712)             0         \n",
      "_________________________________________________________________\n",
      "dense (Dense)                (None, 128)               8667264   \n",
      "_________________________________________________________________\n",
      "dropout_1 (Dropout)          (None, 128)               0         \n",
      "_________________________________________________________________\n",
      "dense_1 (Dense)              (None, 64)                8256      \n",
      "_________________________________________________________________\n",
      "dropout_2 (Dropout)          (None, 64)                0         \n",
      "_________________________________________________________________\n",
      "dense_2 (Dense)              (None, 2)                 130       \n",
      "=================================================================\n",
      "Total params: 8,805,826\n",
      "Trainable params: 8,805,826\n",
      "Non-trainable params: 0\n",
      "_________________________________________________________________\n"
     ]
    }
   ],
   "source": [
    "import keras\n",
    "print(keras.__version__)\n",
    "keras.utils.conv_utils.normalize_data_format\n",
    "from keras.models import Sequential,Model\n",
    "from keras.layers import Dense, Dropout, Flatten\n",
    "from keras.layers import Conv2D,Activation,MaxPooling2D\n",
    "# from keras.utils import normalize\n",
    "from keras.layers import Concatenate\n",
    "from keras import Input\n",
    "from keras.callbacks import ModelCheckpoint\n",
    "\n",
    "input_shape=data.shape[1:]\n",
    "inp=Input(shape=input_shape)\n",
    "convs=[]\n",
    "\n",
    "parrallel_kernels=[3,3,3]\n",
    "\n",
    "for k in range(len(parrallel_kernels)):\n",
    "\n",
    "    conv = Conv2D(32, parrallel_kernels[k],activation='relu',input_shape=input_shape,strides=1)(inp)\n",
    "    convs.append(conv)\n",
    "\n",
    "out = Concatenate()(convs)\n",
    "conv_model = Model(inputs=inp, outputs=out)\n",
    "\n",
    "model = Sequential()\n",
    "model.add(conv_model)\n",
    "\n",
    "model.add(Conv2D(64,(3,3)))\n",
    "model.add(Activation('relu'))\n",
    "model.add(MaxPooling2D(pool_size=(2,2)))\n",
    "\n",
    "model.add(Conv2D(128,(3,3)))\n",
    "model.add(Activation('relu'))\n",
    "model.add(MaxPooling2D(pool_size=(2,2)))\n",
    "\n",
    "model.add(Flatten())\n",
    "model.add(Dropout(0.5))\n",
    "model.add(Dense(128,activation='relu'))\n",
    "model.add(Dropout(0.5))\n",
    "model.add(Dense(64,activation='relu'))\n",
    "model.add(Dropout(0.5))\n",
    "model.add(Dense(2,input_dim=128,activation='softmax'))\n",
    "model.compile(loss='categorical_crossentropy',optimizer='adam',metrics=['accuracy'])\n",
    "\n",
    "model.summary()"
   ]
  },
  {
   "cell_type": "code",
   "execution_count": 10,
   "id": "continent-polyester",
   "metadata": {},
   "outputs": [],
   "source": [
    "from sklearn.model_selection import train_test_split\n",
    "\n",
    "train_data,test_data,train_target,test_target=train_test_split(data,target,test_size=0.2)"
   ]
  },
  {
   "cell_type": "code",
   "execution_count": 11,
   "id": "wicked-marshall",
   "metadata": {},
   "outputs": [],
   "source": [
    "checkpoint=ModelCheckpoint(\"CT_Covid_best_model_2.hdf5\",monitor='accuracy',verbose=1,save_best_only=True,mode='max')"
   ]
  },
  {
   "cell_type": "code",
   "execution_count": 12,
   "id": "material-metropolitan",
   "metadata": {},
   "outputs": [
    {
     "name": "stdout",
     "output_type": "stream",
     "text": [
      "Epoch 1/20\n",
      "WARNING:tensorflow:AutoGraph could not transform <bound method Dense.call of <keras.layers.core.Dense object at 0x00000267BED767F0>> and will run it as-is.\n",
      "Please report this to the TensorFlow team. When filing the bug, set the verbosity to 10 (on Linux, `export AUTOGRAPH_VERBOSITY=10`) and attach the full output.\n",
      "Cause: invalid syntax (tmpm2itegd4.py, line 48)\n",
      "To silence this warning, decorate the function with @tf.autograph.experimental.do_not_convert\n",
      "WARNING: AutoGraph could not transform <bound method Dense.call of <keras.layers.core.Dense object at 0x00000267BED767F0>> and will run it as-is.\n",
      "Please report this to the TensorFlow team. When filing the bug, set the verbosity to 10 (on Linux, `export AUTOGRAPH_VERBOSITY=10`) and attach the full output.\n",
      "Cause: invalid syntax (tmpm2itegd4.py, line 48)\n",
      "To silence this warning, decorate the function with @tf.autograph.experimental.do_not_convert\n",
      "8/8 [==============================] - 108s 6s/step - loss: 1.1045 - accuracy: 0.5339 - val_loss: 0.7257 - val_accuracy: 0.3833\n",
      "\n",
      "Epoch 00001: accuracy improved from -inf to 0.54104, saving model to CT_Covid_best_model_2.hdf5\n",
      "Epoch 2/20\n",
      "8/8 [==============================] - 42s 5s/step - loss: 0.6899 - accuracy: 0.4898 - val_loss: 0.6600 - val_accuracy: 0.6500\n",
      "\n",
      "Epoch 00002: accuracy did not improve from 0.54104\n",
      "Epoch 3/20\n",
      "8/8 [==============================] - 45s 6s/step - loss: 0.6830 - accuracy: 0.5475 - val_loss: 0.6214 - val_accuracy: 0.6500\n",
      "\n",
      "Epoch 00003: accuracy improved from 0.54104 to 0.57649, saving model to CT_Covid_best_model_2.hdf5\n",
      "Epoch 4/20\n",
      "8/8 [==============================] - 42s 5s/step - loss: 0.6762 - accuracy: 0.5484 - val_loss: 0.6266 - val_accuracy: 0.5667\n",
      "\n",
      "Epoch 00004: accuracy improved from 0.57649 to 0.58769, saving model to CT_Covid_best_model_2.hdf5\n",
      "Epoch 5/20\n",
      "8/8 [==============================] - 43s 5s/step - loss: 0.6628 - accuracy: 0.5780 - val_loss: 0.6154 - val_accuracy: 0.6500\n",
      "\n",
      "Epoch 00005: accuracy improved from 0.58769 to 0.59701, saving model to CT_Covid_best_model_2.hdf5\n",
      "Epoch 6/20\n",
      "8/8 [==============================] - 44s 6s/step - loss: 0.6084 - accuracy: 0.6772 - val_loss: 0.6131 - val_accuracy: 0.6500\n",
      "\n",
      "Epoch 00006: accuracy improved from 0.59701 to 0.66231, saving model to CT_Covid_best_model_2.hdf5\n",
      "Epoch 7/20\n",
      "8/8 [==============================] - 42s 5s/step - loss: 0.6009 - accuracy: 0.6916 - val_loss: 0.5937 - val_accuracy: 0.6167\n",
      "\n",
      "Epoch 00007: accuracy improved from 0.66231 to 0.66978, saving model to CT_Covid_best_model_2.hdf5\n",
      "Epoch 8/20\n",
      "8/8 [==============================] - 49s 6s/step - loss: 0.5827 - accuracy: 0.6866 - val_loss: 0.5789 - val_accuracy: 0.6167\n",
      "\n",
      "Epoch 00008: accuracy improved from 0.66978 to 0.70149, saving model to CT_Covid_best_model_2.hdf5\n",
      "Epoch 9/20\n",
      "8/8 [==============================] - 43s 5s/step - loss: 0.5642 - accuracy: 0.6898 - val_loss: 0.5402 - val_accuracy: 0.7000\n",
      "\n",
      "Epoch 00009: accuracy improved from 0.70149 to 0.71455, saving model to CT_Covid_best_model_2.hdf5\n",
      "Epoch 10/20\n",
      "8/8 [==============================] - 46s 6s/step - loss: 0.4992 - accuracy: 0.7422 - val_loss: 0.5117 - val_accuracy: 0.7500\n",
      "\n",
      "Epoch 00010: accuracy improved from 0.71455 to 0.75373, saving model to CT_Covid_best_model_2.hdf5\n",
      "Epoch 11/20\n",
      "8/8 [==============================] - 44s 5s/step - loss: 0.4876 - accuracy: 0.7480 - val_loss: 0.4898 - val_accuracy: 0.7667\n",
      "\n",
      "Epoch 00011: accuracy improved from 0.75373 to 0.76679, saving model to CT_Covid_best_model_2.hdf5\n",
      "Epoch 12/20\n",
      "8/8 [==============================] - 46s 6s/step - loss: 0.4427 - accuracy: 0.7911 - val_loss: 0.4631 - val_accuracy: 0.7833\n",
      "\n",
      "Epoch 00012: accuracy improved from 0.76679 to 0.79664, saving model to CT_Covid_best_model_2.hdf5\n",
      "Epoch 13/20\n",
      "8/8 [==============================] - 42s 5s/step - loss: 0.4303 - accuracy: 0.8240 - val_loss: 0.4689 - val_accuracy: 0.7667\n",
      "\n",
      "Epoch 00013: accuracy improved from 0.79664 to 0.83769, saving model to CT_Covid_best_model_2.hdf5\n",
      "Epoch 14/20\n",
      "8/8 [==============================] - 47s 6s/step - loss: 0.3450 - accuracy: 0.8286 - val_loss: 0.5001 - val_accuracy: 0.7833\n",
      "\n",
      "Epoch 00014: accuracy did not improve from 0.83769\n",
      "Epoch 15/20\n",
      "8/8 [==============================] - 41s 5s/step - loss: 0.3364 - accuracy: 0.8539 - val_loss: 0.4854 - val_accuracy: 0.7667\n",
      "\n",
      "Epoch 00015: accuracy improved from 0.83769 to 0.85448, saving model to CT_Covid_best_model_2.hdf5\n",
      "Epoch 16/20\n",
      "8/8 [==============================] - 45s 6s/step - loss: 0.3290 - accuracy: 0.8451 - val_loss: 0.5203 - val_accuracy: 0.7500\n",
      "\n",
      "Epoch 00016: accuracy did not improve from 0.85448\n",
      "Epoch 17/20\n",
      "8/8 [==============================] - 42s 5s/step - loss: 0.3150 - accuracy: 0.8635 - val_loss: 0.6227 - val_accuracy: 0.7000\n",
      "\n",
      "Epoch 00017: accuracy improved from 0.85448 to 0.88246, saving model to CT_Covid_best_model_2.hdf5\n",
      "Epoch 18/20\n",
      "8/8 [==============================] - 45s 6s/step - loss: 0.2826 - accuracy: 0.8766 - val_loss: 0.5337 - val_accuracy: 0.7833\n",
      "\n",
      "Epoch 00018: accuracy improved from 0.88246 to 0.88433, saving model to CT_Covid_best_model_2.hdf5\n",
      "Epoch 19/20\n",
      "8/8 [==============================] - 42s 5s/step - loss: 0.2186 - accuracy: 0.9096 - val_loss: 0.6394 - val_accuracy: 0.7833\n",
      "\n",
      "Epoch 00019: accuracy improved from 0.88433 to 0.91231, saving model to CT_Covid_best_model_2.hdf5\n",
      "Epoch 20/20\n",
      "8/8 [==============================] - 46s 6s/step - loss: 0.2232 - accuracy: 0.9084 - val_loss: 0.5819 - val_accuracy: 0.7833\n",
      "\n",
      "Epoch 00020: accuracy did not improve from 0.91231\n"
     ]
    }
   ],
   "source": [
    "final=model.fit(train_data,train_target,epochs=20,steps_per_epoch=8,callbacks=[checkpoint],validation_split=0.1)"
   ]
  },
  {
   "cell_type": "code",
   "execution_count": 13,
   "id": "parallel-ordinance",
   "metadata": {},
   "outputs": [
    {
     "data": {
      "image/png": "[encoded data removed]",
      "text/plain": [
       "<Figure size 432x288 with 1 Axes>"
      ]
     },
     "metadata": {
      "needs_background": "light"
     },
     "output_type": "display_data"
    }
   ],
   "source": [
    "from matplotlib import pyplot as plt\n",
    "\n",
    "plt.plot(final.history['loss'],'r',label='training loss')\n",
    "plt.plot(final.history['val_loss'],label='validation loss')\n",
    "plt.xlabel('# epochs')\n",
    "plt.ylabel('loss')\n",
    "plt.legend()\n",
    "plt.show()"
   ]
  },
  {
   "cell_type": "code",
   "execution_count": 14,
   "id": "fatal-operator",
   "metadata": {},
   "outputs": [
    {
     "data": {
      "image/png": "[encoded data removed]",
      "text/plain": [
       "<Figure size 432x288 with 1 Axes>"
      ]
     },
     "metadata": {
      "needs_background": "light"
     },
     "output_type": "display_data"
    }
   ],
   "source": [
    "plt.plot(final.history['accuracy'],'r',label='training accuracy')\n",
    "plt.plot(final.history['val_accuracy'],label='validation accuracy')\n",
    "plt.xlabel('# epochs')\n",
    "plt.ylabel('Accuracy')\n",
    "plt.legend()\n",
    "plt.show()"
   ]
  },
  {
   "cell_type": "code",
   "execution_count": 15,
   "id": "victorian-damage",
   "metadata": {},
   "outputs": [],
   "source": [
    "from tensorflow.keras.models import load_model"
   ]
  },
  {
   "cell_type": "code",
   "execution_count": 16,
   "id": "desirable-marriage",
   "metadata": {},
   "outputs": [],
   "source": [
    "model=load_model(\"CT_Covid_best_model_2.hdf5\")"
   ]
  },
  {
   "cell_type": "code",
   "execution_count": 17,
   "id": "electronic-encyclopedia",
   "metadata": {},
   "outputs": [],
   "source": [
    "import os\n",
    "y_actual=[]\n",
    "y_test=[]"
   ]
  },
  {
   "cell_type": "code",
   "execution_count": 18,
   "id": "proud-jungle",
   "metadata": {},
   "outputs": [
    {
     "name": "stderr",
     "output_type": "stream",
     "text": [
      "c:\\users\\acer\\appdata\\local\\programs\\python\\python39\\lib\\site-packages\\tensorflow\\python\\keras\\engine\\sequential.py:455: UserWarning: `model.predict_classes()` is deprecated and will be removed after 2021-01-01. Please use instead:* `np.argmax(model.predict(x), axis=-1)`,   if your model does multi-class classification   (e.g. if it uses a `softmax` last-layer activation).* `(model.predict(x) > 0.5).astype(\"int32\")`,   if your model does binary classification   (e.g. if it uses a `sigmoid` last-layer activation).\n",
      "  warnings.warn('`model.predict_classes()` is deprecated and '\n"
     ]
    }
   ],
   "source": [
    "for i in range(test_data.shape[0]):\n",
    "    img=np.expand_dims(test_data[i],axis=0)\n",
    "    p=model.predict_classes(img)\n",
    "    y_test.append(p[0])\n",
    "    y_actual.append(test_target[i,1])"
   ]
  },
  {
   "cell_type": "code",
   "execution_count": 19,
   "id": "green-floating",
   "metadata": {},
   "outputs": [],
   "source": [
    "y_test=np.array(y_test)\n",
    "y_actual=np.array(y_actual)"
   ]
  },
  {
   "cell_type": "code",
   "execution_count": 20,
   "id": "academic-stand",
   "metadata": {},
   "outputs": [],
   "source": [
    "from sklearn.metrics import confusion_matrix"
   ]
  },
  {
   "cell_type": "code",
   "execution_count": 21,
   "id": "detailed-oracle",
   "metadata": {},
   "outputs": [],
   "source": [
    "cm=confusion_matrix(y_actual,y_test)"
   ]
  },
  {
   "cell_type": "code",
   "execution_count": 22,
   "id": "vocal-validity",
   "metadata": {},
   "outputs": [],
   "source": [
    "import seaborn as sns"
   ]
  },
  {
   "cell_type": "code",
   "execution_count": 23,
   "id": "mental-fluid",
   "metadata": {},
   "outputs": [
    {
     "data": {
      "text/plain": [
       "<AxesSubplot:>"
      ]
     },
     "execution_count": 23,
     "metadata": {},
     "output_type": "execute_result"
    },
    {
     "data": {
      "image/png": "[encoded data removed]",
      "text/plain": [
       "<Figure size 432x288 with 2 Axes>"
      ]
     },
     "metadata": {
      "needs_background": "light"
     },
     "output_type": "display_data"
    }
   ],
   "source": [
    "sns.heatmap(cm,cmap=\"plasma\",annot=True)"
   ]
  },
  {
   "cell_type": "code",
   "execution_count": null,
   "id": "cosmetic-restaurant",
   "metadata": {},
   "outputs": [],
   "source": []
  }
 ],
 "metadata": {
  "kernelspec": {
   "display_name": "Python 3",
   "language": "python",
   "name": "python3"
  },
  "language_info": {
   "codemirror_mode": {
    "name": "ipython",
    "version": 3
   },
   "file_extension": ".py",
   "mimetype": "text/x-python",
   "name": "python",
   "nbconvert_exporter": "python",
   "pygments_lexer": "ipython3",
   "version": "3.9.2"
  }
 },
 "nbformat": 4,
 "nbformat_minor": 5
}
