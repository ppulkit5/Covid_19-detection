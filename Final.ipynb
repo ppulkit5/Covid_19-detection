{
 "cells": [
  {
   "cell_type": "code",
   "execution_count": 1,
   "id": "isolated-truth",
   "metadata": {},
   "outputs": [
    {
     "name": "stdout",
     "output_type": "stream",
     "text": [
      "INFO:tensorflow:Enabling eager execution\n",
      "INFO:tensorflow:Enabling v2 tensorshape\n",
      "INFO:tensorflow:Enabling resource variables\n",
      "INFO:tensorflow:Enabling tensor equality\n",
      "INFO:tensorflow:Enabling control flow v2\n"
     ]
    }
   ],
   "source": [
    "import numpy as np\n",
    "import matplotlib.pyplot as plt\n",
    "import keras\n",
    "import cv2\n",
    "import os\n",
    "from keras.preprocessing import image\n",
    "from keras.callbacks import ModelCheckpoint\n",
    "from IPython.display import Image\n",
    "from tensorflow.keras.models import load_model"
   ]
  },
  {
   "cell_type": "code",
   "execution_count": 2,
   "id": "oriented-tooth",
   "metadata": {},
   "outputs": [],
   "source": [
    "model_Xray=load_model(\"Covid_best_model.hdf5\")"
   ]
  },
  {
   "cell_type": "code",
   "execution_count": 3,
   "id": "processed-louis",
   "metadata": {},
   "outputs": [],
   "source": [
    "model_CT=load_model(\"CT_Covid_best_model_2.hdf5\")"
   ]
  },
  {
   "cell_type": "code",
   "execution_count": 4,
   "id": "ruled-frank",
   "metadata": {},
   "outputs": [],
   "source": [
    "label={0:'Covid Positive',1:'Covid Negative'}"
   ]
  },
  {
   "cell_type": "code",
   "execution_count": 5,
   "id": "upper-animation",
   "metadata": {},
   "outputs": [
    {
     "data": {
      "text/plain": [
       "array([[[ 0,  0,  0],\n",
       "        [ 0,  0,  0],\n",
       "        [ 0,  0,  0],\n",
       "        ...,\n",
       "        [26, 26, 26],\n",
       "        [26, 26, 26],\n",
       "        [26, 26, 26]],\n",
       "\n",
       "       [[ 0,  0,  0],\n",
       "        [ 0,  0,  0],\n",
       "        [ 0,  0,  0],\n",
       "        ...,\n",
       "        [26, 26, 26],\n",
       "        [26, 26, 26],\n",
       "        [26, 26, 26]],\n",
       "\n",
       "       [[ 0,  0,  0],\n",
       "        [ 0,  0,  0],\n",
       "        [ 0,  0,  0],\n",
       "        ...,\n",
       "        [26, 26, 26],\n",
       "        [26, 26, 26],\n",
       "        [26, 26, 26]],\n",
       "\n",
       "       ...,\n",
       "\n",
       "       [[ 0,  0,  0],\n",
       "        [ 0,  0,  0],\n",
       "        [ 0,  0,  0],\n",
       "        ...,\n",
       "        [26, 26, 26],\n",
       "        [26, 26, 26],\n",
       "        [26, 26, 26]],\n",
       "\n",
       "       [[ 0,  0,  0],\n",
       "        [ 0,  0,  0],\n",
       "        [ 0,  0,  0],\n",
       "        ...,\n",
       "        [26, 26, 26],\n",
       "        [26, 26, 26],\n",
       "        [26, 26, 26]],\n",
       "\n",
       "       [[ 0,  0,  0],\n",
       "        [ 0,  0,  0],\n",
       "        [ 0,  0,  0],\n",
       "        ...,\n",
       "        [26, 26, 26],\n",
       "        [26, 26, 26],\n",
       "        [26, 26, 26]]], dtype=uint8)"
      ]
     },
     "metadata": {},
     "output_type": "display_data"
    }
   ],
   "source": [
    "img_path = 'Temp\\\\CT_Normal_1.png'\n",
    "img=cv2.imread(img_path)\n",
    "display(img)"
   ]
  },
  {
   "cell_type": "code",
   "execution_count": 6,
   "id": "external-mambo",
   "metadata": {},
   "outputs": [],
   "source": [
    "def preprocess_CT(img):\n",
    "    img_size=100\n",
    "    img=np.array(img)\n",
    "\n",
    "    if(img.ndim==3):\n",
    "        gray=cv2.cvtColor(img,cv2.COLOR_BGR2GRAY)\n",
    "    else:\n",
    "        gray=img\n",
    "\n",
    "    gray=gray/255\n",
    "    resized=cv2.resize(gray,(img_size,img_size))\n",
    "    reshaped=resized.reshape(1,img_size,img_size)\n",
    "    return reshaped"
   ]
  },
  {
   "cell_type": "code",
   "execution_count": 7,
   "id": "fuzzy-anaheim",
   "metadata": {},
   "outputs": [],
   "source": [
    "test_image1=preprocess_CT(img)"
   ]
  },
  {
   "cell_type": "code",
   "execution_count": 8,
   "id": "dramatic-channels",
   "metadata": {},
   "outputs": [],
   "source": [
    "prediction1 = model_CT.predict(test_image1)\n",
    "result1=np.argmax(prediction1,axis=1)[0]\n",
    "Probality1=float(np.max(prediction1,axis=1)[0])\n",
    "result1=label[result1]"
   ]
  },
  {
   "cell_type": "code",
   "execution_count": 9,
   "id": "quiet-crystal",
   "metadata": {},
   "outputs": [
    {
     "data": {
      "text/plain": [
       "0.7736503481864929"
      ]
     },
     "execution_count": 9,
     "metadata": {},
     "output_type": "execute_result"
    }
   ],
   "source": [
    "Probality1"
   ]
  },
  {
   "cell_type": "code",
   "execution_count": 10,
   "id": "conscious-cinema",
   "metadata": {},
   "outputs": [
    {
     "data": {
      "text/plain": [
       "'Covid Negative'"
      ]
     },
     "execution_count": 10,
     "metadata": {},
     "output_type": "execute_result"
    }
   ],
   "source": [
    "result1"
   ]
  },
  {
   "cell_type": "code",
   "execution_count": 11,
   "id": "sitting-happening",
   "metadata": {},
   "outputs": [],
   "source": [
    "def preprocess_Xray(img):\n",
    "    img_size=224\n",
    "    img=np.array(img)\n",
    "    img=img/255\n",
    "    reshaped=img.reshape(img_size,img_size,3)\n",
    "    reshaped=np.expand_dims(img,axis=0)\n",
    "    return reshaped"
   ]
  },
  {
   "cell_type": "code",
   "execution_count": 12,
   "id": "acoustic-boulder",
   "metadata": {},
   "outputs": [],
   "source": [
    "img=image.load_img('./Temp/Covid_lungs.webp',color_mode=\"rgb\", target_size=(224,224,3))"
   ]
  },
  {
   "cell_type": "code",
   "execution_count": 13,
   "id": "limiting-budapest",
   "metadata": {},
   "outputs": [],
   "source": [
    "test_img2=preprocess_Xray(img)"
   ]
  },
  {
   "cell_type": "code",
   "execution_count": 14,
   "id": "offshore-maintenance",
   "metadata": {},
   "outputs": [],
   "source": [
    "prediction2=model_Xray.predict(test_img2)\n",
    "result2=prediction2[0][0]\n",
    "if(result2<0.5):\n",
    "    result2=1-result2\n",
    "    Probality2=float(result2)\n",
    "    result2=label[0]\n",
    "else:\n",
    "    Probality2=float(np.max(prediction2,axis=1)[0])\n",
    "    result2=label[1]"
   ]
  },
  {
   "cell_type": "code",
   "execution_count": 15,
   "id": "atlantic-radio",
   "metadata": {},
   "outputs": [],
   "source": [
    "Probality_net=(Probality1+Probality2)/2"
   ]
  },
  {
   "cell_type": "code",
   "execution_count": 16,
   "id": "animal-content",
   "metadata": {},
   "outputs": [],
   "source": [
    "if(result1=='Covid Positive' or result2=='Covid Positive'):\n",
    "    result_net='Covid positive'\n",
    "else:\n",
    "    result_net='Covid negative'"
   ]
  },
  {
   "cell_type": "code",
   "execution_count": 17,
   "id": "homeless-diameter",
   "metadata": {},
   "outputs": [
    {
     "data": {
      "text/plain": [
       "'Covid positive'"
      ]
     },
     "execution_count": 17,
     "metadata": {},
     "output_type": "execute_result"
    }
   ],
   "source": [
    "result_net"
   ]
  },
  {
   "cell_type": "code",
   "execution_count": 18,
   "id": "executive-deposit",
   "metadata": {},
   "outputs": [
    {
     "data": {
      "text/plain": [
       "0.8859260231256485"
      ]
     },
     "execution_count": 18,
     "metadata": {},
     "output_type": "execute_result"
    }
   ],
   "source": [
    "Probality_net"
   ]
  },
  {
   "cell_type": "code",
   "execution_count": null,
   "id": "outdoor-comparative",
   "metadata": {},
   "outputs": [],
   "source": []
  }
 ],
 "metadata": {
  "kernelspec": {
   "display_name": "Python 3",
   "language": "python",
   "name": "python3"
  },
  "language_info": {
   "codemirror_mode": {
    "name": "ipython",
    "version": 3
   },
   "file_extension": ".py",
   "mimetype": "text/x-python",
   "name": "python",
   "nbconvert_exporter": "python",
   "pygments_lexer": "ipython3",
   "version": "3.9.2"
  }
 },
 "nbformat": 4,
 "nbformat_minor": 5
}
